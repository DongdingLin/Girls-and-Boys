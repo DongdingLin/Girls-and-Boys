{
 "cells": [
  {
   "cell_type": "code",
   "execution_count": 1,
   "metadata": {
    "collapsed": true
   },
   "outputs": [],
   "source": [
    "import pandas as pd\n",
    "import numpy as np\n",
    "import sys, os\n",
    "from sklearn import preprocessing\n",
    "from sklearn.ensemble import RandomForestRegressor,RandomForestClassifier\n",
    "from sklearn.feature_selection import VarianceThreshold\n",
    "import warnings\n",
    "warnings.filterwarnings(\"ignore\")"
   ]
  },
  {
   "cell_type": "code",
   "execution_count": 2,
   "metadata": {
    "collapsed": true
   },
   "outputs": [],
   "source": [
    "# 规范化数据部分\n",
    "pan_train = pd.read_csv(\"./DataSet/train.csv\", header=None)\n",
    "pan_test = pd.read_csv(\"./DataSet/test.csv\", header=None)\n",
    "\n",
    "pan_train.drop([pan_train.columns[250]], axis=1,inplace=True)\n",
    "pan_train.drop([pan_train.columns[248]], axis=1,inplace=True)\n",
    "pan_test.drop([pan_test.columns[249]], axis=1,inplace=True)\n",
    "pan_test.drop([pan_test.columns[248]], axis=1,inplace=True)\n",
    "pan_test.columns = range(len(pan_test.columns))\n",
    "pan_train.columns = range(len(pan_train.columns))\n",
    "\n",
    "pan_train_label = pan_train.loc[:, 248]\n",
    "pan_train_data = pan_train.loc[:, 0:247]\n",
    "all_data = pd.concat([pan_train_data, pan_test], axis=0)\n",
    "\n",
    "pan_train_label.to_csv('./DataSet/Standardlize/train_label.csv',header=False, index=False)\n",
    "all_data.to_csv('./DataSet/Standardlize/all_data.csv', header=False, index=False)\n",
    "pan_train_data.to_csv('./DataSet/Standardlize/train_data.csv',header=False, index=False)\n",
    "pan_test.to_csv('./DataSet/Standardlize/test_data.csv',header=False, index=False)"
   ]
  },
  {
   "cell_type": "code",
   "execution_count": 11,
   "metadata": {
    "collapsed": true
   },
   "outputs": [],
   "source": [
    "# pd.set_option('display.height', 1000)\n",
    "# pd.set_option('display.max_rows', 500)\n",
    "pd.set_option('display.max_columns', 100)\n",
    "# pd.set_option('display.width', 1000)"
   ]
  },
  {
   "cell_type": "code",
   "execution_count": 3,
   "metadata": {
    "collapsed": true
   },
   "outputs": [],
   "source": [
    "# 数据有部分是高相关度的，检测方法为，数值列计算相关系数，非数值列做映射\n",
    "all_data = pd.read_csv('./DataSet/Standardlize/all_data.csv', header=None)\n",
    "rowsOfTotal= len(all_data)\n",
    "rowsOfNonMiss = rowsOfTotal * (1-0.9)\n",
    "all_data.dropna(thresh=rowsOfNonMiss,axis=1,inplace=True)\n",
    "for i in all_data.columns:\n",
    "    if all_data.loc[:,i].value_counts().count() == 1:\n",
    "        all_data.drop(i, axis=1, inplace=True)\n",
    "all_data.columns = range(len(all_data.columns))\n",
    "all_data.drop(29, axis=1, inplace=True)\n",
    "all_data.drop(66, axis=1, inplace=True)\n",
    "all_data.drop(23, axis=1, inplace=True)\n",
    "all_data.drop(24, axis=1, inplace=True)\n",
    "all_data.drop(9, axis=1, inplace=True)\n",
    "all_data.drop(17, axis=1, inplace=True)\n",
    "all_data.drop(25, axis=1, inplace=True)\n",
    "all_data.drop(26, axis=1, inplace=True)\n",
    "all_data.drop(69, axis=1, inplace=True)\n",
    "all_data.drop(89, axis=1, inplace=True)\n",
    "all_data.drop(111, axis=1, inplace=True)\n",
    "all_data.drop(115, axis=1, inplace=True)\n",
    "all_data.drop(121, axis=1, inplace=True)\n",
    "all_data.drop(127, axis=1, inplace=True)\n",
    "all_data.drop(150, axis=1, inplace=True)\n",
    "all_data.drop(156, axis=1, inplace=True)\n",
    "all_data.to_csv('./DataSet/DropUselessData/all_data.csv',header=False, index=False)"
   ]
  },
  {
   "cell_type": "code",
   "execution_count": 6,
   "metadata": {
    "collapsed": true
   },
   "outputs": [],
   "source": [
    "all_data = pd.read_csv('./DataSet/DropUselessData/all_data.csv',header=None)"
   ]
  },
  {
   "cell_type": "code",
   "execution_count": 253,
   "metadata": {
    "collapsed": true
   },
   "outputs": [],
   "source": [
    "# Trick data 人工特征，对看起来相关的列做均值，最小值和，方差等运算\n",
    "trick_data = pd.DataFrame(data=all_data.loc[:,list_t].sub(all_data.loc[:,list_t].mean(1), 0).abs().sum(1))\n",
    "trick_data.to_csv('./DataSet/TrickData/trick182,183,184,185mean.csv',header=False, index=False)\n",
    "trick_data = pd.DataFrame(data=all_data.loc[:,list_t].sub(all_data.loc[:,list_t].min(1), 0).abs().sum(1))\n",
    "trick_data.to_csv('./DataSet/TrickData/trick182,183,184,185min.csv',header=False, index=False)"
   ]
  },
  {
   "cell_type": "code",
   "execution_count": 26,
   "metadata": {
    "collapsed": true
   },
   "outputs": [],
   "source": [
    "all_data = pd.read_csv('./DataSet/DropUselessData/all_data.csv',header=None)\n",
    "train_size = len(pan_train_label)\n",
    "train_data = all_data.loc[0:train_size,:]\n",
    "test_data = all_data.loc[train_size:,:]\n",
    "test_data.reset_index(inplace=True)\n",
    "test_data.drop(['index'], axis=1, inplace=True)"
   ]
  },
  {
   "cell_type": "code",
   "execution_count": 29,
   "metadata": {
    "scrolled": true
   },
   "outputs": [
    {
     "name": "stdout",
     "output_type": "stream",
     "text": [
      "字段名为: 0   字段类型: float64  缺失数量: 0      缺失占比: 0.00%  字段类型数: 2     字段形式: 128000000000.0\n",
      "字段名为: 1   字段类型: float64  缺失数量: 73     缺失占比: 0.09%  字段类型数: 385   字段形式: 983.0\n",
      "字段名为: 2   字段类型: float64  缺失数量: 0      缺失占比: 0.00%  字段类型数: 150   字段形式: 1080.0\n",
      "字段名为: 3   字段类型: float64  缺失数量: 92     缺失占比: 0.12%  字段类型数: 46    字段形式: 1190.0\n",
      "字段名为: 4   字段类型: float64  缺失数量: 96     缺失占比: 0.12%  字段类型数: 29    字段形式: 1200.0\n",
      "字段名为: 5   字段类型: float64  缺失数量: 0      缺失占比: 0.00%  字段类型数: 76811 字段形式: 586.18422\n",
      "字段名为: 6   字段类型: float64  缺失数量: 0      缺失占比: 0.00%  字段类型数: 76840 字段形式: 849.72675\n",
      "字段名为: 7   字段类型: float64  缺失数量: 11     缺失占比: 0.01%  字段类型数: 76778 字段形式: 1006.80617\n",
      "字段名为: 8   字段类型: float64  缺失数量: 10     缺失占比: 0.01%  字段类型数: 76604 字段形式: 1174.74439\n",
      "字段名为: 9   字段类型: float64  缺失数量: 10     缺失占比: 0.01%  字段类型数: 76604 字段形式: 1174.74439\n",
      "字段名为: 10  字段类型: float64  缺失数量: 143    缺失占比: 0.19%  字段类型数: 385   字段形式: 998.0\n",
      "字段名为: 11  字段类型: float64  缺失数量: 81     缺失占比: 0.11%  字段类型数: 182   字段形式: 1060.0\n",
      "字段名为: 12  字段类型: float64  缺失数量: 183    缺失占比: 0.24%  字段类型数: 45    字段形式: 1150.0\n",
      "字段名为: 13  字段类型: float64  缺失数量: 197    缺失占比: 0.26%  字段类型数: 26    字段形式: 1210.0\n",
      "字段名为: 14  字段类型: float64  缺失数量: 81     缺失占比: 0.11%  字段类型数: 76783 字段形式: 748.48664\n",
      "字段名为: 15  字段类型: float64  缺失数量: 81     缺失占比: 0.11%  字段类型数: 76745 字段形式: 929.68313\n",
      "字段名为: 16  字段类型: float64  缺失数量: 85     缺失占比: 0.11%  字段类型数: 76642 字段形式: 1097.72328\n",
      "字段名为: 17  字段类型: float64  缺失数量: 91     缺失占比: 0.12%  字段类型数: 76525 字段形式: 1174.74439\n",
      "字段名为: 18  字段类型: float64  缺失数量: 86     缺失占比: 0.11%  字段类型数: 76488 字段形式: 1193.06711\n",
      "字段名为: 19  字段类型: float64  缺失数量: 92     缺失占比: 0.12%  字段类型数: 394   字段形式: 1070.0\n",
      "字段名为: 20  字段类型: float64  缺失数量: 92     缺失占比: 0.12%  字段类型数: 135   字段形式: 1080.0\n",
      "字段名为: 21  字段类型: float64  缺失数量: 183    缺失占比: 0.24%  字段类型数: 37    字段形式: 1140.0\n",
      "字段名为: 22  字段类型: float64  缺失数量: 182    缺失占比: 0.24%  字段类型数: 28    字段形式: 1200.0\n",
      "字段名为: 23  字段类型: float64  缺失数量: 92     缺失占比: 0.12%  字段类型数: 76748 字段形式: 849.72675\n",
      "字段名为: 24  字段类型: float64  缺失数量: 92     缺失占比: 0.12%  字段类型数: 76697 字段形式: 1006.80617\n",
      "字段名为: 25  字段类型: float64  缺失数量: 102    缺失占比: 0.13%  字段类型数: 76513 字段形式: 1174.74439\n",
      "字段名为: 26  字段类型: float64  缺失数量: 102    缺失占比: 0.13%  字段类型数: 76513 字段形式: 1174.74439\n",
      "字段名为: 27  字段类型: float64  缺失数量: 96     缺失占比: 0.12%  字段类型数: 76349 字段形式: 1211.34042\n",
      "字段名为: 28  字段类型: int64    缺失数量: 0      缺失占比: 0.00%  字段类型数: 3     字段形式: 1\n",
      "字段名为: 29  字段类型: float64  缺失数量: 0      缺失占比: 0.00%  字段类型数: 2     字段形式: 128000000000.0\n",
      "字段名为: 30  字段类型: float64  缺失数量: 2511   缺失占比: 3.27%  字段类型数: 24169 字段形式: 125.93\n",
      "字段名为: 31  字段类型: float64  缺失数量: 0      缺失占比: 0.00%  字段类型数: 62534 字段形式: 1790.45\n",
      "字段名为: 32  字段类型: float64  缺失数量: 0      缺失占比: 0.00%  字段类型数: 3410  字段形式: 20.38\n",
      "字段名为: 33  字段类型: float64  缺失数量: 1349   缺失占比: 1.75%  字段类型数: 58352 字段形式: 1502.7\n",
      "字段名为: 34  字段类型: float64  缺失数量: 1349   缺失占比: 1.75%  字段类型数: 4497  字段形式: 20.86\n",
      "字段名为: 35  字段类型: float64  缺失数量: 186    缺失占比: 0.24%  字段类型数: 57339 字段形式: 1302.21\n",
      "字段名为: 36  字段类型: float64  缺失数量: 163    缺失占比: 0.21%  字段类型数: 4843  字段形式: 18.0\n",
      "字段名为: 37  字段类型: float64  缺失数量: 26     缺失占比: 0.03%  字段类型数: 44541 字段形式: 365.69\n",
      "字段名为: 38  字段类型: float64  缺失数量: 69     缺失占比: 0.09%  字段类型数: 4261  字段形式: 13.62\n",
      "字段名为: 39  字段类型: float64  缺失数量: 0      缺失占比: 0.00%  字段类型数: 53525 字段形式: 8945.31\n",
      "字段名为: 40  字段类型: float64  缺失数量: 0      缺失占比: 0.00%  字段类型数: 122   字段形式: 2.07\n",
      "字段名为: 41  字段类型: float64  缺失数量: 0      缺失占比: 0.00%  字段类型数: 3084  字段形式: 32.39\n",
      "字段名为: 42  字段类型: float64  缺失数量: 1348   缺失占比: 1.75%  字段类型数: 55129 字段形式: 9159.17\n",
      "字段名为: 43  字段类型: float64  缺失数量: 1348   缺失占比: 1.75%  字段类型数: 101   字段形式: 2.26\n",
      "字段名为: 44  字段类型: float64  缺失数量: 1350   缺失占比: 1.76%  字段类型数: 1603  字段形式: 35.02\n",
      "字段名为: 45  字段类型: float64  缺失数量: 1349   缺失占比: 1.75%  字段类型数: 58943 字段形式: 9927.45\n",
      "字段名为: 46  字段类型: float64  缺失数量: 1349   缺失占比: 1.75%  字段类型数: 92    字段形式: 2.49\n",
      "字段名为: 47  字段类型: float64  缺失数量: 1349   缺失占比: 1.75%  字段类型数: 1667  字段形式: 31.54\n",
      "字段名为: 48  字段类型: float64  缺失数量: 2      缺失占比: 0.00%  字段类型数: 61616 字段形式: 11034.3\n",
      "字段名为: 49  字段类型: float64  缺失数量: 2      缺失占比: 0.00%  字段类型数: 201   字段形式: 3.23\n",
      "字段名为: 50  字段类型: float64  缺失数量: 38     缺失占比: 0.05%  字段类型数: 1689  字段形式: 39.35\n",
      "字段名为: 51  字段类型: float64  缺失数量: 3      缺失占比: 0.00%  字段类型数: 66391 字段形式: 10680.44\n",
      "字段名为: 52  字段类型: float64  缺失数量: 3      缺失占比: 0.00%  字段类型数: 182   字段形式: 3.54\n",
      "字段名为: 53  字段类型: float64  缺失数量: 42     缺失占比: 0.05%  字段类型数: 1624  字段形式: 32.64\n",
      "字段名为: 54  字段类型: float64  缺失数量: 5      缺失占比: 0.01%  字段类型数: 69864 字段形式: 11532.96\n",
      "字段名为: 55  字段类型: float64  缺失数量: 5      缺失占比: 0.01%  字段类型数: 153   字段形式: 3.93\n",
      "字段名为: 56  字段类型: float64  缺失数量: 51     缺失占比: 0.07%  字段类型数: 1358  字段形式: 26.16\n",
      "字段名为: 57  字段类型: int64    缺失数量: 0      缺失占比: 0.00%  字段类型数: 2     字段形式: 22\n",
      "字段名为: 58  字段类型: int64    缺失数量: 0      缺失占比: 0.00%  字段类型数: 3     字段形式: 21\n",
      "字段名为: 59  字段类型: int64    缺失数量: 0      缺失占比: 0.00%  字段类型数: 5     字段形式: 12\n",
      "字段名为: 60  字段类型: int64    缺失数量: 0      缺失占比: 0.00%  字段类型数: 4     字段形式: 21\n",
      "字段名为: 61  字段类型: int64    缺失数量: 0      缺失占比: 0.00%  字段类型数: 3     字段形式: 21\n",
      "字段名为: 62  字段类型: int64    缺失数量: 0      缺失占比: 0.00%  字段类型数: 4     字段形式: 12\n",
      "字段名为: 63  字段类型: int64    缺失数量: 0      缺失占比: 0.00%  字段类型数: 3     字段形式: 21\n",
      "字段名为: 64  字段类型: int64    缺失数量: 0      缺失占比: 0.00%  字段类型数: 2     字段形式: 0\n",
      "字段名为: 65  字段类型: int64    缺失数量: 0      缺失占比: 0.00%  字段类型数: 2     字段形式: 0\n",
      "字段名为: 66  字段类型: float64  缺失数量: 0      缺失占比: 0.00%  字段类型数: 2     字段形式: 128000000000.0\n",
      "字段名为: 67  字段类型: int64    缺失数量: 0      缺失占比: 0.00%  字段类型数: 15154 字段形式: 23201\n",
      "字段名为: 68  字段类型: float64  缺失数量: 0      缺失占比: 0.00%  字段类型数: 813   字段形式: 1.447\n",
      "字段名为: 69  字段类型: int64    缺失数量: 0      缺失占比: 0.00%  字段类型数: 2     字段形式: 1\n",
      "字段名为: 70  字段类型: float64  缺失数量: 303    缺失占比: 0.39%  字段类型数: 375   字段形式: 0.531\n",
      "字段名为: 71  字段类型: int64    缺失数量: 0      缺失占比: 0.00%  字段类型数: 13360 字段形式: 16004\n",
      "字段名为: 72  字段类型: float64  缺失数量: 0      缺失占比: 0.00%  字段类型数: 1375  字段形式: 2.336\n",
      "字段名为: 73  字段类型: float64  缺失数量: 0      缺失占比: 0.00%  字段类型数: 495   字段形式: 0.208\n",
      "字段名为: 74  字段类型: float64  缺失数量: 303    缺失占比: 0.39%  字段类型数: 292   字段形式: 0.35\n",
      "字段名为: 75  字段类型: int64    缺失数量: 0      缺失占比: 0.00%  字段类型数: 9777  字段形式: 13919\n",
      "字段名为: 76  字段类型: float64  缺失数量: 0      缺失占比: 0.00%  字段类型数: 2080  字段形式: 3.577\n",
      "字段名为: 77  字段类型: float64  缺失数量: 0      缺失占比: 0.00%  字段类型数: 426   字段形式: 0.168\n",
      "字段名为: 78  字段类型: float64  缺失数量: 303    缺失占比: 0.39%  字段类型数: 222   字段形式: 0.343\n",
      "字段名为: 79  字段类型: int64    缺失数量: 0      缺失占比: 0.00%  字段类型数: 8652  字段形式: 13299\n",
      "字段名为: 80  字段类型: float64  缺失数量: 0      缺失占比: 0.00%  字段类型数: 2867  字段形式: 5.191\n",
      "字段名为: 81  字段类型: float64  缺失数量: 0      缺失占比: 0.00%  字段类型数: 352   字段形式: 0.0\n",
      "字段名为: 82  字段类型: float64  缺失数量: 303    缺失占比: 0.39%  字段类型数: 224   字段形式: 0.297\n",
      "字段名为: 83  字段类型: float64  缺失数量: 1      缺失占比: 0.00%  字段类型数: 7898  字段形式: 9727.0\n",
      "字段名为: 84  字段类型: float64  缺失数量: 1      缺失占比: 0.00%  字段类型数: 3658  字段形式: 6.944\n",
      "字段名为: 85  字段类型: float64  缺失数量: 1      缺失占比: 0.00%  字段类型数: 195   字段形式: 0.0\n",
      "字段名为: 86  字段类型: float64  缺失数量: 303    缺失占比: 0.39%  字段类型数: 181   字段形式: 0.253\n",
      "字段名为: 87  字段类型: float64  缺失数量: 1      缺失占比: 0.00%  字段类型数: 7022  字段形式: 8018.0\n",
      "字段名为: 88  字段类型: float64  缺失数量: 1      缺失占比: 0.00%  字段类型数: 4253  字段形式: 8.95\n",
      "字段名为: 89  字段类型: float64  缺失数量: 1      缺失占比: 0.00%  字段类型数: 194   字段形式: 0.0\n",
      "字段名为: 90  字段类型: float64  缺失数量: 303    缺失占比: 0.39%  字段类型数: 204   字段形式: 0.221\n",
      "字段名为: 91  字段类型: float64  缺失数量: 1      缺失占比: 0.00%  字段类型数: 6403  字段形式: 4682.0\n",
      "字段名为: 92  字段类型: float64  缺失数量: 1      缺失占比: 0.00%  字段类型数: 3512  字段形式: 10.456\n",
      "字段名为: 93  字段类型: float64  缺失数量: 1      缺失占比: 0.00%  字段类型数: 194   字段形式: 0.0\n",
      "字段名为: 94  字段类型: float64  缺失数量: 303    缺失占比: 0.39%  字段类型数: 174   字段形式: 0.116\n",
      "字段名为: 95  字段类型: int64    缺失数量: 0      缺失占比: 0.00%  字段类型数: 4     字段形式: 3\n",
      "字段名为: 96  字段类型: int64    缺失数量: 0      缺失占比: 0.00%  字段类型数: 4     字段形式: 3\n",
      "字段名为: 97  字段类型: int64    缺失数量: 0      缺失占比: 0.00%  字段类型数: 2     字段形式: 1\n",
      "字段名为: 98  字段类型: float64  缺失数量: 3633   缺失占比: 4.72%  字段类型数: 21075 字段形式: 77.0\n",
      "字段名为: 99  字段类型: float64  缺失数量: 3633   缺失占比: 4.72%  字段类型数: 25878 字段形式: 4262.0\n",
      "字段名为: 100 字段类型: float64  缺失数量: 3633   缺失占比: 4.72%  字段类型数: 25395 字段形式: 19670.0\n",
      "字段名为: 101 字段类型: float64  缺失数量: 3633   缺失占比: 4.72%  字段类型数: 1795  字段形式: 153.0\n",
      "字段名为: 102 字段类型: float64  缺失数量: 3633   缺失占比: 4.72%  字段类型数: 25985 字段形式: 4258.0\n",
      "字段名为: 103 字段类型: float64  缺失数量: 3633   缺失占比: 4.72%  字段类型数: 21674 字段形式: 21180.0\n",
      "字段名为: 104 字段类型: int64    缺失数量: 0      缺失占比: 0.00%  字段类型数: 293   字段形式: 12\n",
      "字段名为: 105 字段类型: int64    缺失数量: 0      缺失占比: 0.00%  字段类型数: 324   字段形式: 12\n",
      "字段名为: 106 字段类型: int64    缺失数量: 0      缺失占比: 0.00%  字段类型数: 239   字段形式: 12\n",
      "字段名为: 107 字段类型: int64    缺失数量: 0      缺失占比: 0.00%  字段类型数: 230   字段形式: 12\n",
      "字段名为: 108 字段类型: int64    缺失数量: 0      缺失占比: 0.00%  字段类型数: 173   字段形式: 12\n",
      "字段名为: 109 字段类型: int64    缺失数量: 0      缺失占比: 0.00%  字段类型数: 173   字段形式: 12\n",
      "字段名为: 110 字段类型: int64    缺失数量: 0      缺失占比: 0.00%  字段类型数: 173   字段形式: 12\n",
      "字段名为: 111 字段类型: float64  缺失数量: 35814  缺失占比: 46.57% 字段类型数: 7     字段形式: 1.0\n",
      "字段名为: 112 字段类型: float64  缺失数量: 35814  缺失占比: 46.57% 字段类型数: 7     字段形式: 1.0\n",
      "字段名为: 113 字段类型: object   缺失数量: 35814  缺失占比: 46.57% 字段类型数: 4     字段形式: EG26\n",
      "字段名为: 114 字段类型: float64  缺失数量: 3633   缺失占比: 4.72%  字段类型数: 94    字段形式: 1313.77\n",
      "字段名为: 115 字段类型: float64  缺失数量: 3633   缺失占比: 4.72%  字段类型数: 2     字段形式: 23.0\n",
      "字段名为: 116 字段类型: object   缺失数量: 35814  缺失占比: 46.57% 字段类型数: 5     字段形式: EG21\n",
      "字段名为: 117 字段类型: float64  缺失数量: 3633   缺失占比: 4.72%  字段类型数: 14    字段形式: 1310.76\n",
      "字段名为: 118 字段类型: float64  缺失数量: 3633   缺失占比: 4.72%  字段类型数: 2     字段形式: 23.0\n",
      "字段名为: 119 字段类型: object   缺失数量: 35814  缺失占比: 46.57% 字段类型数: 3     字段形式: E132\n",
      "字段名为: 120 字段类型: float64  缺失数量: 3633   缺失占比: 4.72%  字段类型数: 83    字段形式: 992.75\n",
      "字段名为: 121 字段类型: float64  缺失数量: 3633   缺失占比: 4.72%  字段类型数: 2     字段形式: 0.0\n",
      "字段名为: 122 字段类型: object   缺失数量: 35814  缺失占比: 46.57% 字段类型数: 3     字段形式: E235\n"
     ]
    },
    {
     "name": "stdout",
     "output_type": "stream",
     "text": [
      "字段名为: 123 字段类型: float64  缺失数量: 3633   缺失占比: 4.72%  字段类型数: 5     字段形式: 992.7\n",
      "字段名为: 124 字段类型: float64  缺失数量: 3633   缺失占比: 4.72%  字段类型数: 2     字段形式: 0.0\n",
      "字段名为: 125 字段类型: object   缺失数量: 35814  缺失占比: 46.57% 字段类型数: 8     字段形式: FN11\n",
      "字段名为: 126 字段类型: float64  缺失数量: 3633   缺失占比: 4.72%  字段类型数: 141   字段形式: 1111.64\n",
      "字段名为: 127 字段类型: float64  缺失数量: 3633   缺失占比: 4.72%  字段类型数: 2     字段形式: 10.0\n",
      "字段名为: 128 字段类型: object   缺失数量: 35814  缺失占比: 46.57% 字段类型数: 9     字段形式: FM03\n",
      "字段名为: 129 字段类型: float64  缺失数量: 3633   缺失占比: 4.72%  字段类型数: 437   字段形式: 1109.8\n",
      "字段名为: 130 字段类型: float64  缺失数量: 3633   缺失占比: 4.72%  字段类型数: 2     字段形式: 10.0\n",
      "字段名为: 131 字段类型: object   缺失数量: 35814  缺失占比: 46.57% 字段类型数: 3     字段形式: E137\n",
      "字段名为: 132 字段类型: float64  缺失数量: 3633   缺失占比: 4.72%  字段类型数: 7175  字段形式: 943.25\n",
      "字段名为: 133 字段类型: float64  缺失数量: 3633   缺失占比: 4.72%  字段类型数: 2     字段形式: 4.0\n",
      "字段名为: 134 字段类型: object   缺失数量: 35814  缺失占比: 46.57% 字段类型数: 3     字段形式: E140\n",
      "字段名为: 135 字段类型: float64  缺失数量: 3633   缺失占比: 4.72%  字段类型数: 7097  字段形式: 943.25\n",
      "字段名为: 136 字段类型: object   缺失数量: 35814  缺失占比: 46.57% 字段类型数: 6     字段形式: CT01\n",
      "字段名为: 137 字段类型: float64  缺失数量: 3633   缺失占比: 4.72%  字段类型数: 85    字段形式: 600.76\n",
      "字段名为: 138 字段类型: object   缺失数量: 35814  缺失占比: 46.57% 字段类型数: 6     字段形式: GT00\n",
      "字段名为: 139 字段类型: float64  缺失数量: 3633   缺失占比: 4.72%  字段类型数: 10    字段形式: 600.72\n",
      "字段名为: 140 字段类型: object   缺失数量: 0      缺失占比: 0.00%  字段类型数: 11    字段形式: HE00\n",
      "字段名为: 141 字段类型: float64  缺失数量: 0      缺失占比: 0.00%  字段类型数: 241   字段形式: 781.78\n",
      "字段名为: 142 字段类型: object   缺失数量: 0      缺失占比: 0.00%  字段类型数: 11    字段形式: HE01\n",
      "字段名为: 143 字段类型: float64  缺失数量: 0      缺失占比: 0.00%  字段类型数: 239   字段形式: 781.78\n",
      "字段名为: 144 字段类型: object   缺失数量: 0      缺失占比: 0.00%  字段类型数: 7     字段形式: IMA7\n",
      "字段名为: 145 字段类型: float64  缺失数量: 0      缺失占比: 0.00%  字段类型数: 231   字段形式: 788.28\n",
      "字段名为: 146 字段类型: object   缺失数量: 0      缺失占比: 0.00%  字段类型数: 7     字段形式: IMA8\n",
      "字段名为: 147 字段类型: float64  缺失数量: 0      缺失占比: 0.00%  字段类型数: 228   字段形式: 788.0\n",
      "字段名为: 148 字段类型: object   缺失数量: 0      缺失占比: 0.00%  字段类型数: 11    字段形式: IJ92\n",
      "字段名为: 149 字段类型: float64  缺失数量: 0      缺失占比: 0.00%  字段类型数: 229   字段形式: 751.39\n",
      "字段名为: 150 字段类型: int64    缺失数量: 0      缺失占比: 0.00%  字段类型数: 2     字段形式: 10\n",
      "字段名为: 151 字段类型: object   缺失数量: 0      缺失占比: 0.00%  字段类型数: 11    字段形式: IJ93\n",
      "字段名为: 152 字段类型: float64  缺失数量: 0      缺失占比: 0.00%  字段类型数: 229   字段形式: 751.61\n",
      "字段名为: 153 字段类型: int64    缺失数量: 0      缺失占比: 0.00%  字段类型数: 2     字段形式: 10\n",
      "字段名为: 154 字段类型: object   缺失数量: 0      缺失占比: 0.00%  字段类型数: 10    字段形式: JJD2\n",
      "字段名为: 155 字段类型: float64  缺失数量: 0      缺失占比: 0.00%  字段类型数: 418   字段形式: 631.34\n",
      "字段名为: 156 字段类型: int64    缺失数量: 0      缺失占比: 0.00%  字段类型数: 2     字段形式: 10\n",
      "字段名为: 157 字段类型: object   缺失数量: 0      缺失占比: 0.00%  字段类型数: 10    字段形式: JJD3\n",
      "字段名为: 158 字段类型: float64  缺失数量: 0      缺失占比: 0.00%  字段类型数: 399   字段形式: 631.15\n",
      "字段名为: 159 字段类型: int64    缺失数量: 0      缺失占比: 0.00%  字段类型数: 2     字段形式: 10\n",
      "字段名为: 160 字段类型: object   缺失数量: 0      缺失占比: 0.00%  字段类型数: 41    字段形式: ZX031\n",
      "字段名为: 161 字段类型: float64  缺失数量: 0      缺失占比: 0.00%  字段类型数: 1191  字段形式: 595.85\n",
      "字段名为: 162 字段类型: object   缺失数量: 0      缺失占比: 0.00%  字段类型数: 42    字段形式: ZX032\n",
      "字段名为: 163 字段类型: float64  缺失数量: 0      缺失占比: 0.00%  字段类型数: 1164  字段形式: 595.8\n",
      "字段名为: 164 字段类型: object   缺失数量: 0      缺失占比: 0.00%  字段类型数: 42    字段形式: ZX021\n",
      "字段名为: 165 字段类型: float64  缺失数量: 0      缺失占比: 0.00%  字段类型数: 1083  字段形式: 591.19\n",
      "字段名为: 166 字段类型: object   缺失数量: 0      缺失占比: 0.00%  字段类型数: 42    字段形式: ZX023\n",
      "字段名为: 167 字段类型: float64  缺失数量: 0      缺失占比: 0.00%  字段类型数: 1057  字段形式: 591.11\n",
      "字段名为: 168 字段类型: object   缺失数量: 0      缺失占比: 0.00%  字段类型数: 39    字段形式: ZX042\n",
      "字段名为: 169 字段类型: float64  缺失数量: 0      缺失占比: 0.00%  字段类型数: 1019  字段形式: 652.09\n",
      "字段名为: 170 字段类型: object   缺失数量: 0      缺失占比: 0.00%  字段类型数: 39    字段形式: ZX030\n",
      "字段名为: 171 字段类型: float64  缺失数量: 0      缺失占比: 0.00%  字段类型数: 1016  字段形式: 652.05\n",
      "字段名为: 172 字段类型: float64  缺失数量: 0      缺失占比: 0.00%  字段类型数: 40028 字段形式: 1020.201\n",
      "字段名为: 173 字段类型: float64  缺失数量: 0      缺失占比: 0.00%  字段类型数: 10431 字段形式: 924.1\n",
      "字段名为: 174 字段类型: object   缺失数量: 0      缺失占比: 0.00%  字段类型数: 76874 字段形式: 2017-01-29-09.24.39.000000\n",
      "字段名为: 175 字段类型: object   缺失数量: 0      缺失占比: 0.00%  字段类型数: 152   字段形式: DP0161D1\n",
      "字段名为: 176 字段类型: float64  缺失数量: 14     缺失占比: 0.02%  字段类型数: 5     字段形式: 3.0\n",
      "字段名为: 177 字段类型: int64    缺失数量: 0      缺失占比: 0.00%  字段类型数: 343   字段形式: 131\n",
      "字段名为: 178 字段类型: int64    缺失数量: 0      缺失占比: 0.00%  字段类型数: 314   字段形式: 44\n",
      "字段名为: 179 字段类型: int64    缺失数量: 0      缺失占比: 0.00%  字段类型数: 308   字段形式: 76\n",
      "字段名为: 180 字段类型: int64    缺失数量: 0      缺失占比: 0.00%  字段类型数: 284   字段形式: 61\n",
      "字段名为: 181 字段类型: float64  缺失数量: 14     缺失占比: 0.02%  字段类型数: 695   字段形式: 0.0199\n",
      "字段名为: 182 字段类型: float64  缺失数量: 14     缺失占比: 0.02%  字段类型数: 897   字段形式: 0.0\n",
      "字段名为: 183 字段类型: float64  缺失数量: 14     缺失占比: 0.02%  字段类型数: 663   字段形式: 0.17\n",
      "字段名为: 184 字段类型: float64  缺失数量: 14     缺失占比: 0.02%  字段类型数: 551   字段形式: 0.0\n",
      "字段名为: 185 字段类型: float64  缺失数量: 14     缺失占比: 0.02%  字段类型数: 150   字段形式: 0.0\n",
      "字段名为: 186 字段类型: float64  缺失数量: 14     缺失占比: 0.02%  字段类型数: 26    字段形式: 0.0\n",
      "字段名为: 187 字段类型: float64  缺失数量: 14     缺失占比: 0.02%  字段类型数: 38    字段形式: 0.0\n",
      "字段名为: 188 字段类型: float64  缺失数量: 14     缺失占比: 0.02%  字段类型数: 71    字段形式: 0.0\n",
      "字段名为: 189 字段类型: float64  缺失数量: 14     缺失占比: 0.02%  字段类型数: 32    字段形式: 0.0\n",
      "字段名为: 190 字段类型: float64  缺失数量: 14     缺失占比: 0.02%  字段类型数: 26    字段形式: 0.0\n",
      "字段名为: 191 字段类型: float64  缺失数量: 14     缺失占比: 0.02%  字段类型数: 197   字段形式: 0.0\n",
      "字段名为: 192 字段类型: float64  缺失数量: 14     缺失占比: 0.02%  字段类型数: 27    字段形式: 0.0\n",
      "字段名为: 193 字段类型: float64  缺失数量: 14     缺失占比: 0.02%  字段类型数: 1272  字段形式: 0.05\n",
      "字段名为: 194 字段类型: float64  缺失数量: 14     缺失占比: 0.02%  字段类型数: 370   字段形式: 0.0\n",
      "字段名为: 195 字段类型: float64  缺失数量: 14     缺失占比: 0.02%  字段类型数: 20    字段形式: 0.0\n",
      "字段名为: 196 字段类型: float64  缺失数量: 14     缺失占比: 0.02%  字段类型数: 20    字段形式: 0.0\n",
      "字段名为: 197 字段类型: float64  缺失数量: 14     缺失占比: 0.02%  字段类型数: 6     字段形式: 0.0\n",
      "字段名为: 198 字段类型: float64  缺失数量: 14     缺失占比: 0.02%  字段类型数: 8     字段形式: 0.0\n",
      "字段名为: 199 字段类型: float64  缺失数量: 14     缺失占比: 0.02%  字段类型数: 85    字段形式: 0.0\n",
      "字段名为: 200 字段类型: float64  缺失数量: 14     缺失占比: 0.02%  字段类型数: 99    字段形式: 0.0\n",
      "字段名为: 201 字段类型: float64  缺失数量: 14     缺失占比: 0.02%  字段类型数: 1286  字段形式: 0.045\n",
      "字段名为: 202 字段类型: float64  缺失数量: 14     缺失占比: 0.02%  字段类型数: 3     字段形式: 0.0\n",
      "字段名为: 203 字段类型: object   缺失数量: 0      缺失占比: 0.00%  字段类型数: 157   字段形式: DP0-L-3\n",
      "字段名为: 204 字段类型: int64    缺失数量: 0      缺失占比: 0.00%  字段类型数: 15    字段形式: 36\n",
      "字段名为: 205 字段类型: float64  缺失数量: 0      缺失占比: 0.00%  字段类型数: 314   字段形式: -1.0\n"
     ]
    }
   ],
   "source": [
    "print_info(train_data)"
   ]
  },
  {
   "cell_type": "code",
   "execution_count": 15,
   "metadata": {
    "collapsed": true
   },
   "outputs": [],
   "source": [
    "def print_info(panda_example):\n",
    "    for i in panda_example.columns:\n",
    "        d=len(panda_example)-panda_example.loc[:,i].count()\n",
    "        r=(d/len(panda_example))*100\n",
    "        ty = str(panda_example.loc[:,i].dtype)\n",
    "        class_count = panda_example.loc[:,i].value_counts().count()\n",
    "        rate='%.2f%%' % r\n",
    "        print('字段名为:',str(i).ljust(3), '字段类型:', ty.ljust(8),'缺失数量:',str(d).ljust(6),'缺失占比:',str(rate).ljust(6),'字段类型数:',str(class_count).ljust(5),'字段形式:',panda_example.loc[0, i])"
   ]
  },
  {
   "cell_type": "code",
   "execution_count": 4,
   "metadata": {
    "collapsed": true
   },
   "outputs": [],
   "source": [
    "all_data = pd.read_csv('./DataSet/DropUselessData/all_data.csv', header=None)\n",
    "for i in all_data.columns:\n",
    "    d=len(all_data)-all_data.loc[:,i].count()\n",
    "    r=(d/len(all_data))*100\n",
    "    if d != 0 and r < 10 and str(all_data.loc[:,i].dtype) != 'object':\n",
    "        mean_ = all_data.loc[:, i].mean()\n",
    "        all_data.loc[:, i].fillna(mean_, inplace=True)\n",
    "all_data.to_csv('./DataSet/FillMeanNumberLess10Pec/all_data.csv',header=False, index=False)"
   ]
  },
  {
   "cell_type": "code",
   "execution_count": 5,
   "metadata": {},
   "outputs": [
    {
     "name": "stdout",
     "output_type": "stream",
     "text": [
      "full_data_string colums:17\n",
      "full_data_number colums:161\n",
      "defect_data_string colums:10\n",
      "defect_data_number colums:1\n"
     ]
    }
   ],
   "source": [
    "all_data = pd.read_csv('./DataSet/FillMeanNumberLess10Pec/all_data.csv', header=None)\n",
    "full_data_string = pd.DataFrame()\n",
    "full_data_number = pd.DataFrame()\n",
    "defect_data_string = pd.DataFrame()\n",
    "defect_data_number = pd.DataFrame()\n",
    "for i in all_data.columns:\n",
    "    ty = all_data.loc[:,i]\n",
    "    type_  = str(ty.dtype)\n",
    "    if type_ == 'object':\n",
    "        if ty.isnull().any() == False:\n",
    "            full_data_string = pd.concat([full_data_string, pd.DataFrame(ty)], axis=1)\n",
    "        else:\n",
    "            defect_data_string = pd.concat([defect_data_string, pd.DataFrame(ty)], axis=1)\n",
    "    else:\n",
    "        if ty.isnull().any() == False:\n",
    "            full_data_number = pd.concat([full_data_number, pd.DataFrame(ty)], axis=1)\n",
    "        else:\n",
    "            defect_data_number = pd.concat([defect_data_number, pd.DataFrame(ty)], axis=1)\n",
    "full_data_string.to_csv(\"./DataSet/SpiltToNumDefect/full_data_string.csv\", header=False, index=False)\n",
    "full_data_number.to_csv(\"./DataSet/SpiltToNumDefect/full_data_number.csv\", header=False, index=False)\n",
    "defect_data_string.to_csv(\"./DataSet/SpiltToNumDefect/defect_data_string.csv\", header=False, index=False)\n",
    "defect_data_number.to_csv(\"./DataSet/SpiltToNumDefect/defect_data_number.csv\", header=False, index=False)\n",
    "full_data_string = pd.read_csv(\"./DataSet/SpiltToNumDefect/full_data_string.csv\", header=None)\n",
    "full_data_number = pd.read_csv(\"./DataSet/SpiltToNumDefect/full_data_number.csv\", header=None)\n",
    "defect_data_string = pd.read_csv(\"./DataSet/SpiltToNumDefect/defect_data_string.csv\", header=None)\n",
    "defect_data_number = pd.read_csv(\"./DataSet/SpiltToNumDefect/defect_data_number.csv\", header=None)\n",
    "print (\"full_data_string colums:%d\"%(len(full_data_string.columns)))\n",
    "print (\"full_data_number colums:%d\"%(len(full_data_number.columns)))\n",
    "print (\"defect_data_string colums:%d\"%(len(defect_data_string.columns)))\n",
    "print (\"defect_data_number colums:%d\"%(len(defect_data_number.columns)))"
   ]
  },
  {
   "cell_type": "code",
   "execution_count": 17,
   "metadata": {
    "collapsed": true
   },
   "outputs": [],
   "source": [
    "all_data = pd.read_csv('./DataSet/FillMeanNumberLess10Pec/all_data.csv', header=None)\n",
    "time_t = pd.to_datetime(all_data.iloc[:,158], format='%Y-%m-%d-%H.%M.%S.%f')\n",
    "all_data.drop(158, 1, inplace=True)\n",
    "min_t = min(time_t)\n",
    "list_day = [(i-min_t).days for i in time_t]\n",
    "date_file = pd.DataFrame(list_day)\n",
    "date_file.to_csv(\"./DataSet/DealDate/method1.csv\", header=False, index=False)\n",
    "time_1 = time_t.dt.strftime('%Y-%m')\n",
    "date_file = pd.DataFrame(time_1)\n",
    "date_file.to_csv(\"./DataSet/DealDate/method2.csv\",  header=False, index=False)\n",
    "time_2 = time_t.dt.strftime('%Y-%m-%d')\n",
    "date_file = pd.DataFrame(time_2)\n",
    "date_file.to_csv(\"./DataSet/DealDate/method3.csv\",  header=False, index=False)\n",
    "all_data.to_csv(\"./DataSet/DealDate/all_data_drop_date.csv\", header=False, index=False)"
   ]
  },
  {
   "cell_type": "code",
   "execution_count": 18,
   "metadata": {
    "collapsed": true
   },
   "outputs": [],
   "source": [
    "all_data = pd.read_csv('./DataSet/DealDate/all_data_drop_date.csv', header=None)\n",
    "all_data_numeric = pd.DataFrame()\n",
    "for i in all_data.columns:\n",
    "    ty = str(all_data.loc[:,i].dtype)\n",
    "    if ty != 'object':\n",
    "        all_data_numeric = pd.concat([all_data_numeric, all_data.loc[:,i]], axis=1)\n",
    "        all_data.drop(i, axis=1, inplace=True)\n",
    "all_data_numeric.to_csv(\"./DataSet/SpiltToNumeric/numeric_data.csv\",  header=False, index=False)\n",
    "all_data.to_csv(\"./DataSet/SpiltToNumeric/string_data.csv\",  header=False, index=False)"
   ]
  },
  {
   "cell_type": "code",
   "execution_count": 19,
   "metadata": {
    "collapsed": true
   },
   "outputs": [],
   "source": [
    "time_0 = pd.read_csv('./DataSet/DealDate/method1.csv', header=None)\n",
    "time_1 = pd.read_csv('./DataSet/DealDate/method2.csv', header=None)\n",
    "time_2 = pd.read_csv('./DataSet/DealDate/method3.csv', header=None)\n",
    "pd.DataFrame(pd.factorize(time_0.loc[:,0])[0]).to_csv(\"./DataSet/DealAllString/time_0_factorize.csv\",  header=False, index=False)\n",
    "pd.DataFrame(pd.factorize(time_1.loc[:,0])[0]).to_csv(\"./DataSet/DealAllString/time_1_factorize.csv\",  header=False, index=False)\n",
    "pd.DataFrame(pd.factorize(time_2.loc[:,0])[0]).to_csv(\"./DataSet/DealAllString/time_2_factorize.csv\",  header=False, index=False)"
   ]
  },
  {
   "cell_type": "code",
   "execution_count": 20,
   "metadata": {
    "collapsed": true,
    "scrolled": false
   },
   "outputs": [],
   "source": [
    "all_data = pd.read_csv(\"./DataSet/SpiltToNumeric/string_data.csv\", header=None)\n",
    "out_path = \"./DataSet/DealAllString\"\n",
    "# 处理0-3列\n",
    "pd.get_dummies(all_data.loc[:,0:3]).to_csv(out_path+\"/Col0-3.csv\",  header=False, index=False)\n",
    "# 处理第6，7列\n",
    "for i in list([6,7]):\n",
    "    pd.get_dummies(all_data.loc[:,i]).to_csv(out_path+'/Col'+str(i)+'.csv',  header=False, index=False)\n",
    "\n",
    "# 处理第4,5,8,9列\n",
    "for i in list([4, 5, 8, 9]):\n",
    "    pd.get_dummies(all_data.loc[:,i].str[0:2]).to_csv(out_path+'/Col'+str(i)+'half.csv',  header=False, index=False)\n",
    "    pd.get_dummies(all_data.loc[:,i].str[2:4]).to_csv(out_path+'/Col'+str(i)+'half2.csv',  header=False, index=False)\n",
    "\n",
    "# 处理第10,11列\n",
    "for i in range(10,12,1):\n",
    "    pd.get_dummies(all_data.loc[:,i].str.upper()[:].str[0:2]).to_csv(out_path+'/Col'+str(i)+'half.csv',  header=False, index=False)\n",
    "    pd.get_dummies(all_data.loc[:,i].str.upper()[:].str[2:]).to_csv(out_path+'/Col'+str(i)+'half2.csv',  header=False, index=False)\n",
    "\n",
    "# 处理12-17列\n",
    "for i in range(12,18,1):\n",
    "    col_temp = all_data.loc[:,i].str.extract('([a-zA-Z]*)([\\d]*)')\n",
    "    pd.get_dummies(col_temp.loc[:,0]).to_csv(out_path+'/Col'+str(i)+'half.csv',  header=False, index=False)\n",
    "    pd.get_dummies(col_temp.loc[:,1]).to_csv(out_path+'/Col'+str(i)+'half2.csv',  header=False, index=False)\n",
    "\n",
    "# 处理18-23列\n",
    "for i in range(18,24,1):\n",
    "    col_temp = all_data.loc[:,i].str.extract('([a-zA-Z]*)([\\d]*)')\n",
    "    pd.get_dummies(col_temp.loc[:,0]).to_csv(out_path+'/Col'+str(i)+'half.csv',  header=False, index=False)\n",
    "    col_temp.loc[:,1].to_csv(out_path+'/Col'+str(i)+'half2.csv',  header=False, index=False)\n",
    "\n",
    "# 24-25列\n",
    "col_temp = all_data.loc[:,24].str.extract('([a-zA-Z]*)([\\d]*)([a-zA-Z]*)([\\d]*)')\n",
    "pd.get_dummies(col_temp.loc[:,0]).to_csv(out_path+'/Col24quarter1.csv',  header=False, index=False)\n",
    "col_temp.loc[:,1].to_csv(out_path+'/Col24quarter2.csv',  header=False, index=False)\n",
    "pd.get_dummies(col_temp.loc[:,2]).to_csv(out_path+'/Col24quarter3.csv',  header=False, index=False)\n",
    "col_temp.loc[:,3].to_csv(out_path+'/Col24quarter4.csv',  header=False, index=False)\n",
    "\n",
    "col_temp = all_data.loc[:,25].str.extract('([a-zA-Z]*)([\\d]*)-([a-zA-Z]*)-([\\d]*)')\n",
    "pd.get_dummies(col_temp.loc[:,0]).to_csv(out_path+'/Col25quarter1.csv',  header=False, index=False)\n",
    "col_temp.loc[:,1].to_csv(out_path+'/Col25quarter2.csv',  header=False, index=False)\n",
    "pd.get_dummies(col_temp.loc[:,2]).to_csv(out_path+'/Col25quarter3.csv',  header=False, index=False)\n",
    "col_temp.loc[:,3].to_csv(out_path+'/Col25quarter4.csv',  header=False, index=False)\n",
    "\n",
    "# 将所有字符直接factorize\n",
    "temp = pd.DataFrame()\n",
    "for i in all_data.columns:\n",
    "    t = pd.DataFrame(pd.factorize(all_data[i])[0])\n",
    "    temp = pd.concat([temp, t], axis=1)\n",
    "temp.to_csv(out_path+'/All_Factorize.csv',  header=False, index=False)"
   ]
  },
  {
   "cell_type": "code",
   "execution_count": 84,
   "metadata": {},
   "outputs": [
    {
     "name": "stdout",
     "output_type": "stream",
     "text": [
      "字段名为: 0   字段类型: object   缺失数量: 44824  缺失占比: 46.63% 字段类型数: 4     字段形式: EG26\n",
      "字段名为: 1   字段类型: object   缺失数量: 44824  缺失占比: 46.63% 字段类型数: 5     字段形式: EG21\n",
      "字段名为: 2   字段类型: object   缺失数量: 44824  缺失占比: 46.63% 字段类型数: 3     字段形式: E132\n",
      "字段名为: 3   字段类型: object   缺失数量: 44824  缺失占比: 46.63% 字段类型数: 3     字段形式: E235\n",
      "字段名为: 4   字段类型: object   缺失数量: 44824  缺失占比: 46.63% 字段类型数: 8     字段形式: FN11\n",
      "字段名为: 5   字段类型: object   缺失数量: 44824  缺失占比: 46.63% 字段类型数: 9     字段形式: FM03\n",
      "字段名为: 6   字段类型: object   缺失数量: 44824  缺失占比: 46.63% 字段类型数: 3     字段形式: E137\n",
      "字段名为: 7   字段类型: object   缺失数量: 44824  缺失占比: 46.63% 字段类型数: 3     字段形式: E140\n",
      "字段名为: 8   字段类型: object   缺失数量: 44824  缺失占比: 46.63% 字段类型数: 6     字段形式: CT01\n",
      "字段名为: 9   字段类型: object   缺失数量: 44824  缺失占比: 46.63% 字段类型数: 6     字段形式: GT00\n",
      "字段名为: 10  字段类型: object   缺失数量: 0      缺失占比: 0.00%  字段类型数: 11    字段形式: HE00\n",
      "字段名为: 11  字段类型: object   缺失数量: 0      缺失占比: 0.00%  字段类型数: 11    字段形式: HE01\n",
      "字段名为: 12  字段类型: object   缺失数量: 0      缺失占比: 0.00%  字段类型数: 7     字段形式: IMA7\n",
      "字段名为: 13  字段类型: object   缺失数量: 0      缺失占比: 0.00%  字段类型数: 7     字段形式: IMA8\n",
      "字段名为: 14  字段类型: object   缺失数量: 0      缺失占比: 0.00%  字段类型数: 11    字段形式: IJ92\n",
      "字段名为: 15  字段类型: object   缺失数量: 0      缺失占比: 0.00%  字段类型数: 11    字段形式: IJ93\n",
      "字段名为: 16  字段类型: object   缺失数量: 0      缺失占比: 0.00%  字段类型数: 10    字段形式: JJD2\n",
      "字段名为: 17  字段类型: object   缺失数量: 0      缺失占比: 0.00%  字段类型数: 10    字段形式: JJD3\n",
      "字段名为: 18  字段类型: object   缺失数量: 0      缺失占比: 0.00%  字段类型数: 41    字段形式: ZX031\n",
      "字段名为: 19  字段类型: object   缺失数量: 0      缺失占比: 0.00%  字段类型数: 42    字段形式: ZX032\n",
      "字段名为: 20  字段类型: object   缺失数量: 0      缺失占比: 0.00%  字段类型数: 42    字段形式: ZX021\n",
      "字段名为: 21  字段类型: object   缺失数量: 0      缺失占比: 0.00%  字段类型数: 42    字段形式: ZX023\n",
      "字段名为: 22  字段类型: object   缺失数量: 0      缺失占比: 0.00%  字段类型数: 39    字段形式: ZX042\n",
      "字段名为: 23  字段类型: object   缺失数量: 0      缺失占比: 0.00%  字段类型数: 39    字段形式: ZX030\n",
      "字段名为: 24  字段类型: object   缺失数量: 0      缺失占比: 0.00%  字段类型数: 154   字段形式: DP0161D1\n",
      "字段名为: 25  字段类型: object   缺失数量: 0      缺失占比: 0.00%  字段类型数: 158   字段形式: DP0-L-3\n"
     ]
    }
   ],
   "source": [
    "for i in all_data.columns:\n",
    "    d=len(all_data)-all_data.loc[:,i].count()\n",
    "    r=(d/len(all_data))*100\n",
    "    ty = str(all_data.loc[:,i].dtype)\n",
    "    class_count = all_data.loc[:,i].value_counts().count()\n",
    "    rate='%.2f%%' % r\n",
    "    print('字段名为:',str(i).ljust(3), '字段类型:', ty.ljust(8),'缺失数量:',str(d).ljust(6),'缺失占比:',str(rate).ljust(6),'字段类型数:',str(class_count).ljust(5),'字段形式:',all_data.loc[0, i])"
   ]
  },
  {
   "cell_type": "code",
   "execution_count": null,
   "metadata": {
    "collapsed": true
   },
   "outputs": [],
   "source": []
  }
 ],
 "metadata": {
  "kernelspec": {
   "display_name": "Python 3",
   "language": "python",
   "name": "python3"
  },
  "language_info": {
   "codemirror_mode": {
    "name": "ipython",
    "version": 3
   },
   "file_extension": ".py",
   "mimetype": "text/x-python",
   "name": "python",
   "nbconvert_exporter": "python",
   "pygments_lexer": "ipython3",
   "version": "3.6.1"
  }
 },
 "nbformat": 4,
 "nbformat_minor": 2
}
